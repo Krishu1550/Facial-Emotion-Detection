{
 "cells": [
  {
   "cell_type": "code",
   "execution_count": 1,
   "id": "37b9e262",
   "metadata": {},
   "outputs": [],
   "source": [
    "import os\n",
    "import numpy as np\n",
    "import cv2 as cv\n",
    "import pandas as pd"
   ]
  },
  {
   "cell_type": "code",
   "execution_count": 2,
   "id": "ba0a2852",
   "metadata": {},
   "outputs": [],
   "source": [
    "import PIL.Image as Image\n",
    "import pathlib "
   ]
  },
  {
   "cell_type": "code",
   "execution_count": 3,
   "id": "9611a44c",
   "metadata": {},
   "outputs": [],
   "source": [
    "data_dir='./faces'"
   ]
  },
  {
   "cell_type": "code",
   "execution_count": 4,
   "id": "2d78fbec",
   "metadata": {},
   "outputs": [],
   "source": [
    "data_dir= pathlib.Path(data_dir)"
   ]
  },
  {
   "cell_type": "code",
   "execution_count": 5,
   "id": "e3b32e45",
   "metadata": {
    "scrolled": true
   },
   "outputs": [
    {
     "data": {
      "text/plain": [
       "[PosixPath('faces/glickman/glickman_up_neutral_sunglasses.pgm'),\n",
       " PosixPath('faces/glickman/glickman_right_sad_sunglasses_4.pgm'),\n",
       " PosixPath('faces/glickman/glickman_left_sad_open.pgm'),\n",
       " PosixPath('faces/glickman/glickman_straight_sad_sunglasses.pgm'),\n",
       " PosixPath('faces/glickman/glickman_right_angry_open_2.pgm')]"
      ]
     },
     "execution_count": 5,
     "metadata": {},
     "output_type": "execute_result"
    }
   ],
   "source": [
    "list(data_dir.glob('*/*.pgm'))[:5]"
   ]
  },
  {
   "cell_type": "markdown",
   "id": "6ffa5751",
   "metadata": {},
   "source": [
    "Data Preprocessing"
   ]
  },
  {
   "cell_type": "code",
   "execution_count": 6,
   "id": "b367a6d5",
   "metadata": {},
   "outputs": [],
   "source": [
    "emotion_output = {\n",
    "    \n",
    "    0: \"Neutral\",\n",
    "    1: \"Happy\",\n",
    "    2: \"Sad\",\n",
    "    3: \"Angry\",\n",
    "}\n",
    "\n",
    "eye_output = {\n",
    "    0: \"Sunglasses\",\n",
    "    1: \"Eye\"\n",
    "}\n",
    "\n",
    "position = {\n",
    "    0: \"Straight\",\n",
    "    1: \"Left\",\n",
    "    2: \"Right\",\n",
    "    3: \"Up\"\n",
    "}"
   ]
  },
  {
   "cell_type": "code",
   "execution_count": 7,
   "id": "267959c2",
   "metadata": {
    "scrolled": true
   },
   "outputs": [
    {
     "data": {
      "text/plain": [
       "[PosixPath('faces/glickman/glickman_up_neutral_sunglasses.pgm'),\n",
       " PosixPath('faces/glickman/glickman_right_sad_sunglasses_4.pgm'),\n",
       " PosixPath('faces/glickman/glickman_left_sad_open.pgm'),\n",
       " PosixPath('faces/glickman/glickman_straight_sad_sunglasses.pgm'),\n",
       " PosixPath('faces/glickman/glickman_right_angry_open_2.pgm'),\n",
       " PosixPath('faces/glickman/glickman_left_sad_sunglasses.pgm')]"
      ]
     },
     "execution_count": 7,
     "metadata": {},
     "output_type": "execute_result"
    }
   ],
   "source": [
    "img_url=list(data_dir.glob('*/*.pgm'))\n",
    "img_url[:6]"
   ]
  },
  {
   "cell_type": "code",
   "execution_count": 8,
   "id": "5b989ba8",
   "metadata": {},
   "outputs": [],
   "source": [
    "train_emotion=[]\n",
    "train_eyes=[]\n",
    "train_position=[]\n",
    "\n",
    "\n",
    "label_emotion=[]\n",
    "label_eyes=[]\n",
    "label_position=[]\n"
   ]
  },
  {
   "cell_type": "code",
   "execution_count": 9,
   "id": "5ca7f819",
   "metadata": {},
   "outputs": [],
   "source": [
    "for raw_url in img_url:\n",
    "    url=str(raw_url)\n",
    "    if 'neutral' in url:\n",
    "        img=cv.imread(url)\n",
    "        img = cv.resize(img, (64,64))\n",
    "        train_emotion.append(img)\n",
    "        label_emotion.append(0)\n",
    "        \n",
    "    elif 'happy' in url:\n",
    "        img=cv.imread(url)\n",
    "        img = cv.resize(img, (64,64))\n",
    "        train_emotion.append(img)\n",
    "        label_emotion.append(1)\n",
    "    elif 'sad' in url:\n",
    "        img=cv.imread(url)\n",
    "        img = cv.resize(img, (64,64))\n",
    "        train_emotion.append(img)\n",
    "        label_emotion.append(2)\n",
    "    elif 'angry' in url:\n",
    "        img=cv.imread(url)\n",
    "        img = cv.resize(img, (64,64))\n",
    "        train_emotion.append(img)\n",
    "        label_emotion.append(3)\n",
    "    if 'sunglasses' in url:\n",
    "        img=cv.imread(url)\n",
    "        img = cv.resize(img, (64,64))\n",
    "        train_eyes.append(img)\n",
    "        label_eyes.append(0)\n",
    "    else:\n",
    "        img=cv.imread(url)\n",
    "        img = cv.resize(img, (64,64))\n",
    "        train_eyes.append(img)\n",
    "        label_eyes.append(1)\n",
    "    if \"straight\" in url:\n",
    "        img=cv.imread(url)\n",
    "        img = cv.resize(img, (64,64))\n",
    "        train_position.append(img)\n",
    "        label_position.append(0)\n",
    "    elif \"left\" in url:\n",
    "        img=cv.imread(url)\n",
    "        img = cv.resize(img, (64,64))\n",
    "        train_position.append(img)\n",
    "        label_position.append(1)\n",
    "    elif \"right\" in url:\n",
    "        img=cv.imread(url)\n",
    "        img = cv.resize(img, (64,64))\n",
    "        train_position.append(img)\n",
    "        label_position.append(2)\n",
    "    elif \"up\" in url:\n",
    "        img=cv.imread(url)\n",
    "        img = cv.resize(img, (64,64))\n",
    "        train_position.append(img)\n",
    "        label_position.append(3)"
   ]
  },
  {
   "cell_type": "code",
   "execution_count": 10,
   "id": "4c3ab477",
   "metadata": {},
   "outputs": [
    {
     "data": {
      "text/plain": [
       "(1872, 1872)"
      ]
     },
     "execution_count": 10,
     "metadata": {},
     "output_type": "execute_result"
    }
   ],
   "source": [
    "len(train_emotion) ,len(label_emotion)"
   ]
  },
  {
   "cell_type": "code",
   "execution_count": 11,
   "id": "cb84cc23",
   "metadata": {},
   "outputs": [
    {
     "data": {
      "text/plain": [
       "(1872, 1872)"
      ]
     },
     "execution_count": 11,
     "metadata": {},
     "output_type": "execute_result"
    }
   ],
   "source": [
    "len(train_eyes) ,len(label_eyes)"
   ]
  },
  {
   "cell_type": "code",
   "execution_count": 12,
   "id": "d8d0b031",
   "metadata": {
    "scrolled": true
   },
   "outputs": [
    {
     "data": {
      "text/plain": [
       "(1872, 1872)"
      ]
     },
     "execution_count": 12,
     "metadata": {},
     "output_type": "execute_result"
    }
   ],
   "source": [
    "len(train_position) ,len(label_position)"
   ]
  },
  {
   "cell_type": "code",
   "execution_count": 57,
   "id": "0f77a6b7",
   "metadata": {},
   "outputs": [
    {
     "data": {
      "text/plain": [
       "(1, 64, 64, 3)"
      ]
     },
     "execution_count": 57,
     "metadata": {},
     "output_type": "execute_result"
    }
   ],
   "source": [
    "np.array(train_eyes[:1]).shape"
   ]
  },
  {
   "cell_type": "code",
   "execution_count": 13,
   "id": "3c54f557",
   "metadata": {},
   "outputs": [
    {
     "data": {
      "text/plain": [
       "{0, 1, 2, 3}"
      ]
     },
     "execution_count": 13,
     "metadata": {},
     "output_type": "execute_result"
    }
   ],
   "source": [
    "set(label_emotion)"
   ]
  },
  {
   "cell_type": "code",
   "execution_count": 14,
   "id": "c7d9d8ba",
   "metadata": {},
   "outputs": [
    {
     "data": {
      "text/plain": [
       "{0, 1}"
      ]
     },
     "execution_count": 14,
     "metadata": {},
     "output_type": "execute_result"
    }
   ],
   "source": [
    "set(label_eyes)"
   ]
  },
  {
   "cell_type": "code",
   "execution_count": 15,
   "id": "ed4ddfa2",
   "metadata": {
    "scrolled": true
   },
   "outputs": [
    {
     "data": {
      "text/plain": [
       "{0, 1, 2, 3}"
      ]
     },
     "execution_count": 15,
     "metadata": {},
     "output_type": "execute_result"
    }
   ],
   "source": [
    "set(label_position)"
   ]
  },
  {
   "cell_type": "markdown",
   "id": "e1d86f6e",
   "metadata": {},
   "source": [
    "Passing Data to split for training and testing"
   ]
  },
  {
   "cell_type": "code",
   "execution_count": 16,
   "id": "45349ba1",
   "metadata": {},
   "outputs": [],
   "source": [
    "from sklearn.model_selection import train_test_split"
   ]
  },
  {
   "cell_type": "code",
   "execution_count": 17,
   "id": "546e4d3e",
   "metadata": {},
   "outputs": [],
   "source": [
    "X_eyes_train,X_eyes_test,y_eyes_train,y_eyes_test =train_test_split(train_eyes,label_eyes)\n"
   ]
  },
  {
   "cell_type": "code",
   "execution_count": 18,
   "id": "3e459d89",
   "metadata": {},
   "outputs": [],
   "source": [
    "X_position_train,X_position_test,y_position_train,y_position_test=train_test_split(train_position,label_position)"
   ]
  },
  {
   "cell_type": "code",
   "execution_count": 19,
   "id": "04a515a1",
   "metadata": {},
   "outputs": [],
   "source": [
    "X_emotion_train,X_emotion_test,y_emotion_train,y_emotion_test =train_test_split(train_emotion,label_emotion)\n"
   ]
  },
  {
   "cell_type": "markdown",
   "id": "82e8fc28",
   "metadata": {},
   "source": [
    "Selecting Best Model"
   ]
  },
  {
   "cell_type": "code",
   "execution_count": 20,
   "id": "ead628d5",
   "metadata": {},
   "outputs": [],
   "source": [
    "from sklearn.svm import SVC\n",
    "from sklearn.ensemble import RandomForestClassifier\n",
    "from sklearn.naive_bayes import GaussianNB\n",
    "from sklearn.tree import DecisionTreeClassifier\n",
    "from sklearn.linear_model import LogisticRegression\n",
    "from sklearn.model_selection import cross_val_score"
   ]
  },
  {
   "cell_type": "code",
   "execution_count": 21,
   "id": "185dcb57",
   "metadata": {},
   "outputs": [],
   "source": [
    "Model_name={\n",
    "        \n",
    "        \"SVM\":SVC(),\n",
    "        \"RandomForest\":RandomForestClassifier(),\n",
    "        'DecisionTree': DecisionTreeClassifier(),\n",
    "        \"Logestics\":LogisticRegression(),\n",
    "        \"Naive\":GaussianNB()\n",
    "        \n",
    "    }\n",
    "    \n"
   ]
  },
  {
   "cell_type": "code",
   "execution_count": 22,
   "id": "fa328ebf",
   "metadata": {},
   "outputs": [],
   "source": [
    "def normalize_data(data):\n",
    "    data = np.array(data)\n",
    "    data= data[:,:,:,0]\n",
    "    n_samples , nx, ny = data.shape\n",
    "    data = data.reshape((n_samples,nx*ny)) /255.0\n",
    "    return data"
   ]
  },
  {
   "cell_type": "code",
   "execution_count": 23,
   "id": "5227647b",
   "metadata": {},
   "outputs": [],
   "source": [
    "def best_model(X,y):\n",
    "    Score={}\n",
    "    X=normalize_data(X)\n",
    "    for name, model in Model_name.items():\n",
    "        score=cross_val_score(model, X, y)\n",
    "        avg= np.mean(cross_val_score(model, X, y))\n",
    "        Score[name]=[score,avg]\n",
    "    return Score"
   ]
  },
  {
   "cell_type": "code",
   "execution_count": 24,
   "id": "540ffa5e",
   "metadata": {},
   "outputs": [
    {
     "name": "stderr",
     "output_type": "stream",
     "text": [
      "/Users/mac/opt/anaconda3/envs/Opencv/lib/python3.10/site-packages/sklearn/linear_model/_logistic.py:444: ConvergenceWarning: lbfgs failed to converge (status=1):\n",
      "STOP: TOTAL NO. of ITERATIONS REACHED LIMIT.\n",
      "\n",
      "Increase the number of iterations (max_iter) or scale the data as shown in:\n",
      "    https://scikit-learn.org/stable/modules/preprocessing.html\n",
      "Please also refer to the documentation for alternative solver options:\n",
      "    https://scikit-learn.org/stable/modules/linear_model.html#logistic-regression\n",
      "  n_iter_i = _check_optimize_result(\n",
      "/Users/mac/opt/anaconda3/envs/Opencv/lib/python3.10/site-packages/sklearn/linear_model/_logistic.py:444: ConvergenceWarning: lbfgs failed to converge (status=1):\n",
      "STOP: TOTAL NO. of ITERATIONS REACHED LIMIT.\n",
      "\n",
      "Increase the number of iterations (max_iter) or scale the data as shown in:\n",
      "    https://scikit-learn.org/stable/modules/preprocessing.html\n",
      "Please also refer to the documentation for alternative solver options:\n",
      "    https://scikit-learn.org/stable/modules/linear_model.html#logistic-regression\n",
      "  n_iter_i = _check_optimize_result(\n",
      "/Users/mac/opt/anaconda3/envs/Opencv/lib/python3.10/site-packages/sklearn/linear_model/_logistic.py:444: ConvergenceWarning: lbfgs failed to converge (status=1):\n",
      "STOP: TOTAL NO. of ITERATIONS REACHED LIMIT.\n",
      "\n",
      "Increase the number of iterations (max_iter) or scale the data as shown in:\n",
      "    https://scikit-learn.org/stable/modules/preprocessing.html\n",
      "Please also refer to the documentation for alternative solver options:\n",
      "    https://scikit-learn.org/stable/modules/linear_model.html#logistic-regression\n",
      "  n_iter_i = _check_optimize_result(\n",
      "/Users/mac/opt/anaconda3/envs/Opencv/lib/python3.10/site-packages/sklearn/linear_model/_logistic.py:444: ConvergenceWarning: lbfgs failed to converge (status=1):\n",
      "STOP: TOTAL NO. of ITERATIONS REACHED LIMIT.\n",
      "\n",
      "Increase the number of iterations (max_iter) or scale the data as shown in:\n",
      "    https://scikit-learn.org/stable/modules/preprocessing.html\n",
      "Please also refer to the documentation for alternative solver options:\n",
      "    https://scikit-learn.org/stable/modules/linear_model.html#logistic-regression\n",
      "  n_iter_i = _check_optimize_result(\n",
      "/Users/mac/opt/anaconda3/envs/Opencv/lib/python3.10/site-packages/sklearn/linear_model/_logistic.py:444: ConvergenceWarning: lbfgs failed to converge (status=1):\n",
      "STOP: TOTAL NO. of ITERATIONS REACHED LIMIT.\n",
      "\n",
      "Increase the number of iterations (max_iter) or scale the data as shown in:\n",
      "    https://scikit-learn.org/stable/modules/preprocessing.html\n",
      "Please also refer to the documentation for alternative solver options:\n",
      "    https://scikit-learn.org/stable/modules/linear_model.html#logistic-regression\n",
      "  n_iter_i = _check_optimize_result(\n",
      "/Users/mac/opt/anaconda3/envs/Opencv/lib/python3.10/site-packages/sklearn/linear_model/_logistic.py:444: ConvergenceWarning: lbfgs failed to converge (status=1):\n",
      "STOP: TOTAL NO. of ITERATIONS REACHED LIMIT.\n",
      "\n",
      "Increase the number of iterations (max_iter) or scale the data as shown in:\n",
      "    https://scikit-learn.org/stable/modules/preprocessing.html\n",
      "Please also refer to the documentation for alternative solver options:\n",
      "    https://scikit-learn.org/stable/modules/linear_model.html#logistic-regression\n",
      "  n_iter_i = _check_optimize_result(\n",
      "/Users/mac/opt/anaconda3/envs/Opencv/lib/python3.10/site-packages/sklearn/linear_model/_logistic.py:444: ConvergenceWarning: lbfgs failed to converge (status=1):\n",
      "STOP: TOTAL NO. of ITERATIONS REACHED LIMIT.\n",
      "\n",
      "Increase the number of iterations (max_iter) or scale the data as shown in:\n",
      "    https://scikit-learn.org/stable/modules/preprocessing.html\n",
      "Please also refer to the documentation for alternative solver options:\n",
      "    https://scikit-learn.org/stable/modules/linear_model.html#logistic-regression\n",
      "  n_iter_i = _check_optimize_result(\n",
      "/Users/mac/opt/anaconda3/envs/Opencv/lib/python3.10/site-packages/sklearn/linear_model/_logistic.py:444: ConvergenceWarning: lbfgs failed to converge (status=1):\n",
      "STOP: TOTAL NO. of ITERATIONS REACHED LIMIT.\n",
      "\n",
      "Increase the number of iterations (max_iter) or scale the data as shown in:\n",
      "    https://scikit-learn.org/stable/modules/preprocessing.html\n",
      "Please also refer to the documentation for alternative solver options:\n",
      "    https://scikit-learn.org/stable/modules/linear_model.html#logistic-regression\n",
      "  n_iter_i = _check_optimize_result(\n",
      "/Users/mac/opt/anaconda3/envs/Opencv/lib/python3.10/site-packages/sklearn/linear_model/_logistic.py:444: ConvergenceWarning: lbfgs failed to converge (status=1):\n",
      "STOP: TOTAL NO. of ITERATIONS REACHED LIMIT.\n",
      "\n",
      "Increase the number of iterations (max_iter) or scale the data as shown in:\n",
      "    https://scikit-learn.org/stable/modules/preprocessing.html\n",
      "Please also refer to the documentation for alternative solver options:\n",
      "    https://scikit-learn.org/stable/modules/linear_model.html#logistic-regression\n",
      "  n_iter_i = _check_optimize_result(\n",
      "/Users/mac/opt/anaconda3/envs/Opencv/lib/python3.10/site-packages/sklearn/linear_model/_logistic.py:444: ConvergenceWarning: lbfgs failed to converge (status=1):\n",
      "STOP: TOTAL NO. of ITERATIONS REACHED LIMIT.\n",
      "\n",
      "Increase the number of iterations (max_iter) or scale the data as shown in:\n",
      "    https://scikit-learn.org/stable/modules/preprocessing.html\n",
      "Please also refer to the documentation for alternative solver options:\n",
      "    https://scikit-learn.org/stable/modules/linear_model.html#logistic-regression\n",
      "  n_iter_i = _check_optimize_result(\n"
     ]
    },
    {
     "data": {
      "text/plain": [
       "{'SVM': [array([0.68      , 0.78933333, 0.71390374, 0.72727273, 0.7513369 ]),\n",
       "  0.7323693404634581],\n",
       " 'RandomForest': [array([0.768     , 0.864     , 0.80213904, 0.69518717, 0.82620321]),\n",
       "  0.8087443850267381],\n",
       " 'DecisionTree': [array([0.65866667, 0.60533333, 0.72459893, 0.67647059, 0.7459893 ]),\n",
       "  0.6928285204991087],\n",
       " 'Logestics': [array([0.69066667, 0.744     , 0.72994652, 0.77540107, 0.72727273]),\n",
       "  0.7334573975044563],\n",
       " 'Naive': [array([0.59733333, 0.536     , 0.4973262 , 0.58823529, 0.62834225]),\n",
       "  0.5694474153297683]}"
      ]
     },
     "execution_count": 24,
     "metadata": {},
     "output_type": "execute_result"
    }
   ],
   "source": [
    " best_model(train_eyes ,label_eyes)"
   ]
  },
  {
   "cell_type": "code",
   "execution_count": 25,
   "id": "6738f49c",
   "metadata": {
    "scrolled": true
   },
   "outputs": [
    {
     "name": "stderr",
     "output_type": "stream",
     "text": [
      "/Users/mac/opt/anaconda3/envs/Opencv/lib/python3.10/site-packages/sklearn/linear_model/_logistic.py:444: ConvergenceWarning: lbfgs failed to converge (status=1):\n",
      "STOP: TOTAL NO. of ITERATIONS REACHED LIMIT.\n",
      "\n",
      "Increase the number of iterations (max_iter) or scale the data as shown in:\n",
      "    https://scikit-learn.org/stable/modules/preprocessing.html\n",
      "Please also refer to the documentation for alternative solver options:\n",
      "    https://scikit-learn.org/stable/modules/linear_model.html#logistic-regression\n",
      "  n_iter_i = _check_optimize_result(\n",
      "/Users/mac/opt/anaconda3/envs/Opencv/lib/python3.10/site-packages/sklearn/linear_model/_logistic.py:444: ConvergenceWarning: lbfgs failed to converge (status=1):\n",
      "STOP: TOTAL NO. of ITERATIONS REACHED LIMIT.\n",
      "\n",
      "Increase the number of iterations (max_iter) or scale the data as shown in:\n",
      "    https://scikit-learn.org/stable/modules/preprocessing.html\n",
      "Please also refer to the documentation for alternative solver options:\n",
      "    https://scikit-learn.org/stable/modules/linear_model.html#logistic-regression\n",
      "  n_iter_i = _check_optimize_result(\n",
      "/Users/mac/opt/anaconda3/envs/Opencv/lib/python3.10/site-packages/sklearn/linear_model/_logistic.py:444: ConvergenceWarning: lbfgs failed to converge (status=1):\n",
      "STOP: TOTAL NO. of ITERATIONS REACHED LIMIT.\n",
      "\n",
      "Increase the number of iterations (max_iter) or scale the data as shown in:\n",
      "    https://scikit-learn.org/stable/modules/preprocessing.html\n",
      "Please also refer to the documentation for alternative solver options:\n",
      "    https://scikit-learn.org/stable/modules/linear_model.html#logistic-regression\n",
      "  n_iter_i = _check_optimize_result(\n",
      "/Users/mac/opt/anaconda3/envs/Opencv/lib/python3.10/site-packages/sklearn/linear_model/_logistic.py:444: ConvergenceWarning: lbfgs failed to converge (status=1):\n",
      "STOP: TOTAL NO. of ITERATIONS REACHED LIMIT.\n",
      "\n",
      "Increase the number of iterations (max_iter) or scale the data as shown in:\n",
      "    https://scikit-learn.org/stable/modules/preprocessing.html\n",
      "Please also refer to the documentation for alternative solver options:\n",
      "    https://scikit-learn.org/stable/modules/linear_model.html#logistic-regression\n",
      "  n_iter_i = _check_optimize_result(\n",
      "/Users/mac/opt/anaconda3/envs/Opencv/lib/python3.10/site-packages/sklearn/linear_model/_logistic.py:444: ConvergenceWarning: lbfgs failed to converge (status=1):\n",
      "STOP: TOTAL NO. of ITERATIONS REACHED LIMIT.\n",
      "\n",
      "Increase the number of iterations (max_iter) or scale the data as shown in:\n",
      "    https://scikit-learn.org/stable/modules/preprocessing.html\n",
      "Please also refer to the documentation for alternative solver options:\n",
      "    https://scikit-learn.org/stable/modules/linear_model.html#logistic-regression\n",
      "  n_iter_i = _check_optimize_result(\n",
      "/Users/mac/opt/anaconda3/envs/Opencv/lib/python3.10/site-packages/sklearn/linear_model/_logistic.py:444: ConvergenceWarning: lbfgs failed to converge (status=1):\n",
      "STOP: TOTAL NO. of ITERATIONS REACHED LIMIT.\n",
      "\n",
      "Increase the number of iterations (max_iter) or scale the data as shown in:\n",
      "    https://scikit-learn.org/stable/modules/preprocessing.html\n",
      "Please also refer to the documentation for alternative solver options:\n",
      "    https://scikit-learn.org/stable/modules/linear_model.html#logistic-regression\n",
      "  n_iter_i = _check_optimize_result(\n",
      "/Users/mac/opt/anaconda3/envs/Opencv/lib/python3.10/site-packages/sklearn/linear_model/_logistic.py:444: ConvergenceWarning: lbfgs failed to converge (status=1):\n",
      "STOP: TOTAL NO. of ITERATIONS REACHED LIMIT.\n",
      "\n",
      "Increase the number of iterations (max_iter) or scale the data as shown in:\n",
      "    https://scikit-learn.org/stable/modules/preprocessing.html\n",
      "Please also refer to the documentation for alternative solver options:\n",
      "    https://scikit-learn.org/stable/modules/linear_model.html#logistic-regression\n",
      "  n_iter_i = _check_optimize_result(\n",
      "/Users/mac/opt/anaconda3/envs/Opencv/lib/python3.10/site-packages/sklearn/linear_model/_logistic.py:444: ConvergenceWarning: lbfgs failed to converge (status=1):\n",
      "STOP: TOTAL NO. of ITERATIONS REACHED LIMIT.\n",
      "\n",
      "Increase the number of iterations (max_iter) or scale the data as shown in:\n",
      "    https://scikit-learn.org/stable/modules/preprocessing.html\n",
      "Please also refer to the documentation for alternative solver options:\n",
      "    https://scikit-learn.org/stable/modules/linear_model.html#logistic-regression\n",
      "  n_iter_i = _check_optimize_result(\n",
      "/Users/mac/opt/anaconda3/envs/Opencv/lib/python3.10/site-packages/sklearn/linear_model/_logistic.py:444: ConvergenceWarning: lbfgs failed to converge (status=1):\n",
      "STOP: TOTAL NO. of ITERATIONS REACHED LIMIT.\n",
      "\n",
      "Increase the number of iterations (max_iter) or scale the data as shown in:\n",
      "    https://scikit-learn.org/stable/modules/preprocessing.html\n",
      "Please also refer to the documentation for alternative solver options:\n",
      "    https://scikit-learn.org/stable/modules/linear_model.html#logistic-regression\n",
      "  n_iter_i = _check_optimize_result(\n",
      "/Users/mac/opt/anaconda3/envs/Opencv/lib/python3.10/site-packages/sklearn/linear_model/_logistic.py:444: ConvergenceWarning: lbfgs failed to converge (status=1):\n",
      "STOP: TOTAL NO. of ITERATIONS REACHED LIMIT.\n",
      "\n",
      "Increase the number of iterations (max_iter) or scale the data as shown in:\n",
      "    https://scikit-learn.org/stable/modules/preprocessing.html\n",
      "Please also refer to the documentation for alternative solver options:\n",
      "    https://scikit-learn.org/stable/modules/linear_model.html#logistic-regression\n",
      "  n_iter_i = _check_optimize_result(\n"
     ]
    },
    {
     "data": {
      "text/plain": [
       "{'SVM': [array([0.27466667, 0.26133333, 0.27272727, 0.27540107, 0.22192513]),\n",
       "  0.2612106951871658],\n",
       " 'RandomForest': [array([0.25866667, 0.29066667, 0.26470588, 0.24331551, 0.27005348]),\n",
       "  0.28310873440285206],\n",
       " 'DecisionTree': [array([0.31466667, 0.26133333, 0.26470588, 0.28074866, 0.21925134]),\n",
       "  0.2660078431372549],\n",
       " 'Logestics': [array([0.25333333, 0.30133333, 0.2486631 , 0.29144385, 0.25668449]),\n",
       "  0.27029162210338675],\n",
       " 'Naive': [array([0.288     , 0.248     , 0.29679144, 0.26470588, 0.2540107 ]),\n",
       "  0.27030160427807487]}"
      ]
     },
     "execution_count": 25,
     "metadata": {},
     "output_type": "execute_result"
    }
   ],
   "source": [
    " best_model(train_emotion,label_emotion)"
   ]
  },
  {
   "cell_type": "code",
   "execution_count": 26,
   "id": "f72f3caf",
   "metadata": {
    "scrolled": true
   },
   "outputs": [
    {
     "name": "stderr",
     "output_type": "stream",
     "text": [
      "/Users/mac/opt/anaconda3/envs/Opencv/lib/python3.10/site-packages/sklearn/linear_model/_logistic.py:444: ConvergenceWarning: lbfgs failed to converge (status=1):\n",
      "STOP: TOTAL NO. of ITERATIONS REACHED LIMIT.\n",
      "\n",
      "Increase the number of iterations (max_iter) or scale the data as shown in:\n",
      "    https://scikit-learn.org/stable/modules/preprocessing.html\n",
      "Please also refer to the documentation for alternative solver options:\n",
      "    https://scikit-learn.org/stable/modules/linear_model.html#logistic-regression\n",
      "  n_iter_i = _check_optimize_result(\n",
      "/Users/mac/opt/anaconda3/envs/Opencv/lib/python3.10/site-packages/sklearn/linear_model/_logistic.py:444: ConvergenceWarning: lbfgs failed to converge (status=1):\n",
      "STOP: TOTAL NO. of ITERATIONS REACHED LIMIT.\n",
      "\n",
      "Increase the number of iterations (max_iter) or scale the data as shown in:\n",
      "    https://scikit-learn.org/stable/modules/preprocessing.html\n",
      "Please also refer to the documentation for alternative solver options:\n",
      "    https://scikit-learn.org/stable/modules/linear_model.html#logistic-regression\n",
      "  n_iter_i = _check_optimize_result(\n",
      "/Users/mac/opt/anaconda3/envs/Opencv/lib/python3.10/site-packages/sklearn/linear_model/_logistic.py:444: ConvergenceWarning: lbfgs failed to converge (status=1):\n",
      "STOP: TOTAL NO. of ITERATIONS REACHED LIMIT.\n",
      "\n",
      "Increase the number of iterations (max_iter) or scale the data as shown in:\n",
      "    https://scikit-learn.org/stable/modules/preprocessing.html\n",
      "Please also refer to the documentation for alternative solver options:\n",
      "    https://scikit-learn.org/stable/modules/linear_model.html#logistic-regression\n",
      "  n_iter_i = _check_optimize_result(\n",
      "/Users/mac/opt/anaconda3/envs/Opencv/lib/python3.10/site-packages/sklearn/linear_model/_logistic.py:444: ConvergenceWarning: lbfgs failed to converge (status=1):\n",
      "STOP: TOTAL NO. of ITERATIONS REACHED LIMIT.\n",
      "\n",
      "Increase the number of iterations (max_iter) or scale the data as shown in:\n",
      "    https://scikit-learn.org/stable/modules/preprocessing.html\n",
      "Please also refer to the documentation for alternative solver options:\n",
      "    https://scikit-learn.org/stable/modules/linear_model.html#logistic-regression\n",
      "  n_iter_i = _check_optimize_result(\n",
      "/Users/mac/opt/anaconda3/envs/Opencv/lib/python3.10/site-packages/sklearn/linear_model/_logistic.py:444: ConvergenceWarning: lbfgs failed to converge (status=1):\n",
      "STOP: TOTAL NO. of ITERATIONS REACHED LIMIT.\n",
      "\n",
      "Increase the number of iterations (max_iter) or scale the data as shown in:\n",
      "    https://scikit-learn.org/stable/modules/preprocessing.html\n",
      "Please also refer to the documentation for alternative solver options:\n",
      "    https://scikit-learn.org/stable/modules/linear_model.html#logistic-regression\n",
      "  n_iter_i = _check_optimize_result(\n",
      "/Users/mac/opt/anaconda3/envs/Opencv/lib/python3.10/site-packages/sklearn/linear_model/_logistic.py:444: ConvergenceWarning: lbfgs failed to converge (status=1):\n",
      "STOP: TOTAL NO. of ITERATIONS REACHED LIMIT.\n",
      "\n",
      "Increase the number of iterations (max_iter) or scale the data as shown in:\n",
      "    https://scikit-learn.org/stable/modules/preprocessing.html\n",
      "Please also refer to the documentation for alternative solver options:\n",
      "    https://scikit-learn.org/stable/modules/linear_model.html#logistic-regression\n",
      "  n_iter_i = _check_optimize_result(\n",
      "/Users/mac/opt/anaconda3/envs/Opencv/lib/python3.10/site-packages/sklearn/linear_model/_logistic.py:444: ConvergenceWarning: lbfgs failed to converge (status=1):\n",
      "STOP: TOTAL NO. of ITERATIONS REACHED LIMIT.\n",
      "\n",
      "Increase the number of iterations (max_iter) or scale the data as shown in:\n",
      "    https://scikit-learn.org/stable/modules/preprocessing.html\n",
      "Please also refer to the documentation for alternative solver options:\n",
      "    https://scikit-learn.org/stable/modules/linear_model.html#logistic-regression\n",
      "  n_iter_i = _check_optimize_result(\n",
      "/Users/mac/opt/anaconda3/envs/Opencv/lib/python3.10/site-packages/sklearn/linear_model/_logistic.py:444: ConvergenceWarning: lbfgs failed to converge (status=1):\n",
      "STOP: TOTAL NO. of ITERATIONS REACHED LIMIT.\n",
      "\n",
      "Increase the number of iterations (max_iter) or scale the data as shown in:\n",
      "    https://scikit-learn.org/stable/modules/preprocessing.html\n",
      "Please also refer to the documentation for alternative solver options:\n",
      "    https://scikit-learn.org/stable/modules/linear_model.html#logistic-regression\n",
      "  n_iter_i = _check_optimize_result(\n",
      "/Users/mac/opt/anaconda3/envs/Opencv/lib/python3.10/site-packages/sklearn/linear_model/_logistic.py:444: ConvergenceWarning: lbfgs failed to converge (status=1):\n",
      "STOP: TOTAL NO. of ITERATIONS REACHED LIMIT.\n",
      "\n",
      "Increase the number of iterations (max_iter) or scale the data as shown in:\n",
      "    https://scikit-learn.org/stable/modules/preprocessing.html\n",
      "Please also refer to the documentation for alternative solver options:\n",
      "    https://scikit-learn.org/stable/modules/linear_model.html#logistic-regression\n",
      "  n_iter_i = _check_optimize_result(\n",
      "/Users/mac/opt/anaconda3/envs/Opencv/lib/python3.10/site-packages/sklearn/linear_model/_logistic.py:444: ConvergenceWarning: lbfgs failed to converge (status=1):\n",
      "STOP: TOTAL NO. of ITERATIONS REACHED LIMIT.\n",
      "\n",
      "Increase the number of iterations (max_iter) or scale the data as shown in:\n",
      "    https://scikit-learn.org/stable/modules/preprocessing.html\n",
      "Please also refer to the documentation for alternative solver options:\n",
      "    https://scikit-learn.org/stable/modules/linear_model.html#logistic-regression\n",
      "  n_iter_i = _check_optimize_result(\n"
     ]
    },
    {
     "data": {
      "text/plain": [
       "{'SVM': [array([0.768     , 0.848     , 0.88502674, 0.84759358, 0.82352941]),\n",
       "  0.8344299465240642],\n",
       " 'RandomForest': [array([0.66933333, 0.81066667, 0.89572193, 0.76737968, 0.79144385]),\n",
       "  0.7751729055258467],\n",
       " 'DecisionTree': [array([0.544     , 0.61066667, 0.5828877 , 0.40641711, 0.60695187]),\n",
       "  0.5539080213903744],\n",
       " 'Logestics': [array([0.65866667, 0.83466667, 0.86096257, 0.84759358, 0.76737968]),\n",
       "  0.7938538324420676],\n",
       " 'Naive': [array([0.576     , 0.61333333, 0.64973262, 0.70053476, 0.56417112]),\n",
       "  0.6207543672014261]}"
      ]
     },
     "execution_count": 26,
     "metadata": {},
     "output_type": "execute_result"
    }
   ],
   "source": [
    " best_model(train_position,label_position)"
   ]
  },
  {
   "cell_type": "code",
   "execution_count": 27,
   "id": "6a97044f",
   "metadata": {},
   "outputs": [],
   "source": [
    "from sklearn.neural_network import MLPClassifier"
   ]
  },
  {
   "cell_type": "code",
   "execution_count": 28,
   "id": "1c10aa8f",
   "metadata": {},
   "outputs": [],
   "source": [
    "clf = MLPClassifier(random_state=1, max_iter=300)"
   ]
  },
  {
   "cell_type": "code",
   "execution_count": 29,
   "id": "c3533979",
   "metadata": {
    "scrolled": false
   },
   "outputs": [
    {
     "name": "stderr",
     "output_type": "stream",
     "text": [
      "/Users/mac/opt/anaconda3/envs/Opencv/lib/python3.10/site-packages/sklearn/neural_network/_multilayer_perceptron.py:702: ConvergenceWarning: Stochastic Optimizer: Maximum iterations (300) reached and the optimization hasn't converged yet.\n",
      "  warnings.warn(\n",
      "/Users/mac/opt/anaconda3/envs/Opencv/lib/python3.10/site-packages/sklearn/neural_network/_multilayer_perceptron.py:702: ConvergenceWarning: Stochastic Optimizer: Maximum iterations (300) reached and the optimization hasn't converged yet.\n",
      "  warnings.warn(\n",
      "/Users/mac/opt/anaconda3/envs/Opencv/lib/python3.10/site-packages/sklearn/neural_network/_multilayer_perceptron.py:702: ConvergenceWarning: Stochastic Optimizer: Maximum iterations (300) reached and the optimization hasn't converged yet.\n",
      "  warnings.warn(\n",
      "/Users/mac/opt/anaconda3/envs/Opencv/lib/python3.10/site-packages/sklearn/neural_network/_multilayer_perceptron.py:702: ConvergenceWarning: Stochastic Optimizer: Maximum iterations (300) reached and the optimization hasn't converged yet.\n",
      "  warnings.warn(\n",
      "/Users/mac/opt/anaconda3/envs/Opencv/lib/python3.10/site-packages/sklearn/neural_network/_multilayer_perceptron.py:702: ConvergenceWarning: Stochastic Optimizer: Maximum iterations (300) reached and the optimization hasn't converged yet.\n",
      "  warnings.warn(\n"
     ]
    },
    {
     "data": {
      "text/plain": [
       "0.27562067736185386"
      ]
     },
     "execution_count": 29,
     "metadata": {},
     "output_type": "execute_result"
    }
   ],
   "source": [
    "np.mean(cross_val_score(clf, normalize_data(train_emotion),label_emotion))"
   ]
  },
  {
   "cell_type": "markdown",
   "id": "681f5568",
   "metadata": {},
   "source": [
    "Building Model"
   ]
  },
  {
   "cell_type": "code",
   "execution_count": 30,
   "id": "562312af",
   "metadata": {},
   "outputs": [],
   "source": [
    "clf_head=MLPClassifier(random_state=1, max_iter=300)"
   ]
  },
  {
   "cell_type": "code",
   "execution_count": 31,
   "id": "83468003",
   "metadata": {},
   "outputs": [
    {
     "data": {
      "text/html": [
       "<style>#sk-container-id-1 {color: black;background-color: white;}#sk-container-id-1 pre{padding: 0;}#sk-container-id-1 div.sk-toggleable {background-color: white;}#sk-container-id-1 label.sk-toggleable__label {cursor: pointer;display: block;width: 100%;margin-bottom: 0;padding: 0.3em;box-sizing: border-box;text-align: center;}#sk-container-id-1 label.sk-toggleable__label-arrow:before {content: \"▸\";float: left;margin-right: 0.25em;color: #696969;}#sk-container-id-1 label.sk-toggleable__label-arrow:hover:before {color: black;}#sk-container-id-1 div.sk-estimator:hover label.sk-toggleable__label-arrow:before {color: black;}#sk-container-id-1 div.sk-toggleable__content {max-height: 0;max-width: 0;overflow: hidden;text-align: left;background-color: #f0f8ff;}#sk-container-id-1 div.sk-toggleable__content pre {margin: 0.2em;color: black;border-radius: 0.25em;background-color: #f0f8ff;}#sk-container-id-1 input.sk-toggleable__control:checked~div.sk-toggleable__content {max-height: 200px;max-width: 100%;overflow: auto;}#sk-container-id-1 input.sk-toggleable__control:checked~label.sk-toggleable__label-arrow:before {content: \"▾\";}#sk-container-id-1 div.sk-estimator input.sk-toggleable__control:checked~label.sk-toggleable__label {background-color: #d4ebff;}#sk-container-id-1 div.sk-label input.sk-toggleable__control:checked~label.sk-toggleable__label {background-color: #d4ebff;}#sk-container-id-1 input.sk-hidden--visually {border: 0;clip: rect(1px 1px 1px 1px);clip: rect(1px, 1px, 1px, 1px);height: 1px;margin: -1px;overflow: hidden;padding: 0;position: absolute;width: 1px;}#sk-container-id-1 div.sk-estimator {font-family: monospace;background-color: #f0f8ff;border: 1px dotted black;border-radius: 0.25em;box-sizing: border-box;margin-bottom: 0.5em;}#sk-container-id-1 div.sk-estimator:hover {background-color: #d4ebff;}#sk-container-id-1 div.sk-parallel-item::after {content: \"\";width: 100%;border-bottom: 1px solid gray;flex-grow: 1;}#sk-container-id-1 div.sk-label:hover label.sk-toggleable__label {background-color: #d4ebff;}#sk-container-id-1 div.sk-serial::before {content: \"\";position: absolute;border-left: 1px solid gray;box-sizing: border-box;top: 0;bottom: 0;left: 50%;z-index: 0;}#sk-container-id-1 div.sk-serial {display: flex;flex-direction: column;align-items: center;background-color: white;padding-right: 0.2em;padding-left: 0.2em;position: relative;}#sk-container-id-1 div.sk-item {position: relative;z-index: 1;}#sk-container-id-1 div.sk-parallel {display: flex;align-items: stretch;justify-content: center;background-color: white;position: relative;}#sk-container-id-1 div.sk-item::before, #sk-container-id-1 div.sk-parallel-item::before {content: \"\";position: absolute;border-left: 1px solid gray;box-sizing: border-box;top: 0;bottom: 0;left: 50%;z-index: -1;}#sk-container-id-1 div.sk-parallel-item {display: flex;flex-direction: column;z-index: 1;position: relative;background-color: white;}#sk-container-id-1 div.sk-parallel-item:first-child::after {align-self: flex-end;width: 50%;}#sk-container-id-1 div.sk-parallel-item:last-child::after {align-self: flex-start;width: 50%;}#sk-container-id-1 div.sk-parallel-item:only-child::after {width: 0;}#sk-container-id-1 div.sk-dashed-wrapped {border: 1px dashed gray;margin: 0 0.4em 0.5em 0.4em;box-sizing: border-box;padding-bottom: 0.4em;background-color: white;}#sk-container-id-1 div.sk-label label {font-family: monospace;font-weight: bold;display: inline-block;line-height: 1.2em;}#sk-container-id-1 div.sk-label-container {text-align: center;}#sk-container-id-1 div.sk-container {/* jupyter's `normalize.less` sets `[hidden] { display: none; }` but bootstrap.min.css set `[hidden] { display: none !important; }` so we also need the `!important` here to be able to override the default hidden behavior on the sphinx rendered scikit-learn.org. See: https://github.com/scikit-learn/scikit-learn/issues/21755 */display: inline-block !important;position: relative;}#sk-container-id-1 div.sk-text-repr-fallback {display: none;}</style><div id=\"sk-container-id-1\" class=\"sk-top-container\"><div class=\"sk-text-repr-fallback\"><pre>MLPClassifier(max_iter=300, random_state=1)</pre><b>In a Jupyter environment, please rerun this cell to show the HTML representation or trust the notebook. <br />On GitHub, the HTML representation is unable to render, please try loading this page with nbviewer.org.</b></div><div class=\"sk-container\" hidden><div class=\"sk-item\"><div class=\"sk-estimator sk-toggleable\"><input class=\"sk-toggleable__control sk-hidden--visually\" id=\"sk-estimator-id-1\" type=\"checkbox\" checked><label for=\"sk-estimator-id-1\" class=\"sk-toggleable__label sk-toggleable__label-arrow\">MLPClassifier</label><div class=\"sk-toggleable__content\"><pre>MLPClassifier(max_iter=300, random_state=1)</pre></div></div></div></div></div>"
      ],
      "text/plain": [
       "MLPClassifier(max_iter=300, random_state=1)"
      ]
     },
     "execution_count": 31,
     "metadata": {},
     "output_type": "execute_result"
    }
   ],
   "source": [
    "clf_head.fit( normalize_data(X_position_train),y_position_train)"
   ]
  },
  {
   "cell_type": "code",
   "execution_count": 32,
   "id": "2b8c051b",
   "metadata": {},
   "outputs": [
    {
     "data": {
      "text/plain": [
       "array([2, 2, 0, 3, 3, 0, 1, 2, 3, 2, 0, 1, 0, 3, 2, 2, 3, 3, 3, 3, 2, 3,\n",
       "       3, 2, 2, 2, 3, 1, 1, 0, 2, 3, 1, 1, 2, 2, 1, 2, 1, 1, 0, 2, 1, 2,\n",
       "       1, 3, 3, 2, 2, 3, 2, 3, 3, 0, 1, 3, 1, 3, 2, 1, 0, 0, 1, 3, 2, 0,\n",
       "       1, 2, 3, 2, 2, 1, 1, 1, 1, 2, 1, 1, 3, 0, 0, 0, 0, 3, 1, 1, 0, 2,\n",
       "       0, 2, 3, 0, 1, 0, 1, 2, 1, 1, 2, 0, 0, 0, 2, 2, 0, 2, 2, 2, 0, 0,\n",
       "       0, 1, 3, 0, 3, 2, 2, 0, 1, 3, 2, 1, 1, 3, 3, 0, 0, 2, 3, 0, 2, 3,\n",
       "       3, 3, 0, 1, 3, 3, 3, 2, 2, 0, 0, 1, 2, 2, 1, 2, 2, 3, 0, 0, 1, 3,\n",
       "       2, 0, 3, 3, 0, 0, 1, 1, 3, 1, 1, 0, 3, 2, 1, 3, 2, 3, 0, 1, 0, 3,\n",
       "       2, 3, 0, 2, 0, 3, 0, 3, 0, 0, 0, 1, 3, 3, 0, 3, 0, 3, 3, 0, 0, 1,\n",
       "       2, 3, 3, 0, 0, 3, 1, 3, 2, 2, 0, 2, 1, 3, 3, 2, 1, 3, 3, 2, 1, 0,\n",
       "       0, 2, 3, 3, 1, 0, 2, 1, 2, 1, 2, 1, 3, 0, 0, 0, 0, 3, 2, 2, 0, 3,\n",
       "       1, 2, 0, 1, 3, 2, 3, 1, 1, 1, 2, 2, 1, 2, 2, 0, 0, 0, 1, 1, 1, 3,\n",
       "       0, 3, 1, 2, 0, 3, 3, 1, 1, 1, 3, 2, 0, 0, 2, 1, 3, 2, 3, 2, 1, 0,\n",
       "       0, 3, 3, 1, 2, 0, 0, 2, 2, 2, 0, 0, 1, 2, 0, 1, 3, 2, 2, 3, 0, 2,\n",
       "       0, 3, 2, 2, 0, 2, 2, 0, 3, 2, 1, 2, 1, 0, 1, 0, 3, 0, 3, 0, 2, 0,\n",
       "       2, 1, 3, 3, 0, 0, 1, 1, 2, 1, 1, 2, 2, 1, 0, 1, 1, 0, 2, 3, 1, 3,\n",
       "       3, 0, 0, 2, 0, 0, 3, 0, 3, 1, 1, 3, 1, 3, 3, 1, 3, 3, 2, 1, 3, 0,\n",
       "       0, 2, 3, 1, 1, 3, 1, 2, 0, 2, 3, 2, 1, 1, 1, 3, 1, 3, 1, 3, 3, 0,\n",
       "       2, 1, 0, 2, 3, 3, 0, 1, 3, 3, 0, 3, 1, 0, 0, 1, 2, 0, 3, 3, 0, 3,\n",
       "       2, 0, 2, 1, 1, 2, 3, 3, 3, 0, 3, 2, 0, 1, 1, 3, 3, 2, 0, 2, 0, 1,\n",
       "       2, 2, 0, 3, 2, 1, 0, 1, 3, 1, 0, 3, 2, 1, 0, 1, 0, 0, 0, 1, 2, 3,\n",
       "       3, 2, 2, 3, 2, 0])"
      ]
     },
     "execution_count": 32,
     "metadata": {},
     "output_type": "execute_result"
    }
   ],
   "source": [
    "clf_head.predict(normalize_data(X_position_test))"
   ]
  },
  {
   "cell_type": "code",
   "execution_count": 33,
   "id": "207c6398",
   "metadata": {},
   "outputs": [
    {
     "data": {
      "text/plain": [
       "[2, 2, 0, 3, 3, 0, 1, 2, 3, 2]"
      ]
     },
     "execution_count": 33,
     "metadata": {},
     "output_type": "execute_result"
    }
   ],
   "source": [
    "y_position_test[:10]"
   ]
  },
  {
   "cell_type": "code",
   "execution_count": 34,
   "id": "43a223f7",
   "metadata": {
    "scrolled": true
   },
   "outputs": [
    {
     "data": {
      "text/plain": [
       "array([[118,   0,   1,   5],\n",
       "       [  0, 109,   0,   0],\n",
       "       [  0,   0, 115,   0],\n",
       "       [  1,   1,   0, 118]])"
      ]
     },
     "execution_count": 34,
     "metadata": {},
     "output_type": "execute_result"
    }
   ],
   "source": [
    "from sklearn.metrics import confusion_matrix\n",
    "confusion_matrix(y_position_test, clf_head.predict(normalize_data(X_position_test)))"
   ]
  },
  {
   "cell_type": "code",
   "execution_count": 35,
   "id": "df070baa",
   "metadata": {},
   "outputs": [
    {
     "data": {
      "text/plain": [
       "0.9829059829059829"
      ]
     },
     "execution_count": 35,
     "metadata": {},
     "output_type": "execute_result"
    }
   ],
   "source": [
    "clf_head.score(normalize_data(X_position_test),y_position_test)"
   ]
  },
  {
   "cell_type": "code",
   "execution_count": 36,
   "id": "706333b5",
   "metadata": {},
   "outputs": [],
   "source": [
    "clf_eyes=RandomForestClassifier()"
   ]
  },
  {
   "cell_type": "code",
   "execution_count": 37,
   "id": "b114e1b5",
   "metadata": {},
   "outputs": [
    {
     "data": {
      "text/html": [
       "<style>#sk-container-id-2 {color: black;background-color: white;}#sk-container-id-2 pre{padding: 0;}#sk-container-id-2 div.sk-toggleable {background-color: white;}#sk-container-id-2 label.sk-toggleable__label {cursor: pointer;display: block;width: 100%;margin-bottom: 0;padding: 0.3em;box-sizing: border-box;text-align: center;}#sk-container-id-2 label.sk-toggleable__label-arrow:before {content: \"▸\";float: left;margin-right: 0.25em;color: #696969;}#sk-container-id-2 label.sk-toggleable__label-arrow:hover:before {color: black;}#sk-container-id-2 div.sk-estimator:hover label.sk-toggleable__label-arrow:before {color: black;}#sk-container-id-2 div.sk-toggleable__content {max-height: 0;max-width: 0;overflow: hidden;text-align: left;background-color: #f0f8ff;}#sk-container-id-2 div.sk-toggleable__content pre {margin: 0.2em;color: black;border-radius: 0.25em;background-color: #f0f8ff;}#sk-container-id-2 input.sk-toggleable__control:checked~div.sk-toggleable__content {max-height: 200px;max-width: 100%;overflow: auto;}#sk-container-id-2 input.sk-toggleable__control:checked~label.sk-toggleable__label-arrow:before {content: \"▾\";}#sk-container-id-2 div.sk-estimator input.sk-toggleable__control:checked~label.sk-toggleable__label {background-color: #d4ebff;}#sk-container-id-2 div.sk-label input.sk-toggleable__control:checked~label.sk-toggleable__label {background-color: #d4ebff;}#sk-container-id-2 input.sk-hidden--visually {border: 0;clip: rect(1px 1px 1px 1px);clip: rect(1px, 1px, 1px, 1px);height: 1px;margin: -1px;overflow: hidden;padding: 0;position: absolute;width: 1px;}#sk-container-id-2 div.sk-estimator {font-family: monospace;background-color: #f0f8ff;border: 1px dotted black;border-radius: 0.25em;box-sizing: border-box;margin-bottom: 0.5em;}#sk-container-id-2 div.sk-estimator:hover {background-color: #d4ebff;}#sk-container-id-2 div.sk-parallel-item::after {content: \"\";width: 100%;border-bottom: 1px solid gray;flex-grow: 1;}#sk-container-id-2 div.sk-label:hover label.sk-toggleable__label {background-color: #d4ebff;}#sk-container-id-2 div.sk-serial::before {content: \"\";position: absolute;border-left: 1px solid gray;box-sizing: border-box;top: 0;bottom: 0;left: 50%;z-index: 0;}#sk-container-id-2 div.sk-serial {display: flex;flex-direction: column;align-items: center;background-color: white;padding-right: 0.2em;padding-left: 0.2em;position: relative;}#sk-container-id-2 div.sk-item {position: relative;z-index: 1;}#sk-container-id-2 div.sk-parallel {display: flex;align-items: stretch;justify-content: center;background-color: white;position: relative;}#sk-container-id-2 div.sk-item::before, #sk-container-id-2 div.sk-parallel-item::before {content: \"\";position: absolute;border-left: 1px solid gray;box-sizing: border-box;top: 0;bottom: 0;left: 50%;z-index: -1;}#sk-container-id-2 div.sk-parallel-item {display: flex;flex-direction: column;z-index: 1;position: relative;background-color: white;}#sk-container-id-2 div.sk-parallel-item:first-child::after {align-self: flex-end;width: 50%;}#sk-container-id-2 div.sk-parallel-item:last-child::after {align-self: flex-start;width: 50%;}#sk-container-id-2 div.sk-parallel-item:only-child::after {width: 0;}#sk-container-id-2 div.sk-dashed-wrapped {border: 1px dashed gray;margin: 0 0.4em 0.5em 0.4em;box-sizing: border-box;padding-bottom: 0.4em;background-color: white;}#sk-container-id-2 div.sk-label label {font-family: monospace;font-weight: bold;display: inline-block;line-height: 1.2em;}#sk-container-id-2 div.sk-label-container {text-align: center;}#sk-container-id-2 div.sk-container {/* jupyter's `normalize.less` sets `[hidden] { display: none; }` but bootstrap.min.css set `[hidden] { display: none !important; }` so we also need the `!important` here to be able to override the default hidden behavior on the sphinx rendered scikit-learn.org. See: https://github.com/scikit-learn/scikit-learn/issues/21755 */display: inline-block !important;position: relative;}#sk-container-id-2 div.sk-text-repr-fallback {display: none;}</style><div id=\"sk-container-id-2\" class=\"sk-top-container\"><div class=\"sk-text-repr-fallback\"><pre>RandomForestClassifier()</pre><b>In a Jupyter environment, please rerun this cell to show the HTML representation or trust the notebook. <br />On GitHub, the HTML representation is unable to render, please try loading this page with nbviewer.org.</b></div><div class=\"sk-container\" hidden><div class=\"sk-item\"><div class=\"sk-estimator sk-toggleable\"><input class=\"sk-toggleable__control sk-hidden--visually\" id=\"sk-estimator-id-2\" type=\"checkbox\" checked><label for=\"sk-estimator-id-2\" class=\"sk-toggleable__label sk-toggleable__label-arrow\">RandomForestClassifier</label><div class=\"sk-toggleable__content\"><pre>RandomForestClassifier()</pre></div></div></div></div></div>"
      ],
      "text/plain": [
       "RandomForestClassifier()"
      ]
     },
     "execution_count": 37,
     "metadata": {},
     "output_type": "execute_result"
    }
   ],
   "source": [
    "clf_eyes.fit(normalize_data(X_eyes_train),y_eyes_train)"
   ]
  },
  {
   "cell_type": "code",
   "execution_count": 53,
   "id": "ece51cf8",
   "metadata": {
    "scrolled": true
   },
   "outputs": [
    {
     "data": {
      "text/plain": [
       "array([1])"
      ]
     },
     "execution_count": 53,
     "metadata": {},
     "output_type": "execute_result"
    }
   ],
   "source": [
    "clf_eyes.predict(normalize_data(X_eyes_test[:1]))"
   ]
  },
  {
   "cell_type": "code",
   "execution_count": 39,
   "id": "78db104d",
   "metadata": {},
   "outputs": [
    {
     "data": {
      "text/plain": [
       "[1, 1, 1, 0, 1, 0, 0, 0, 0, 0, 0, 0, 1, 0, 1, 0, 0, 0, 0, 1]"
      ]
     },
     "execution_count": 39,
     "metadata": {},
     "output_type": "execute_result"
    }
   ],
   "source": [
    "y_eyes_test[:20]"
   ]
  },
  {
   "cell_type": "code",
   "execution_count": 40,
   "id": "68ffd8c6",
   "metadata": {},
   "outputs": [],
   "source": [
    "from sklearn.metrics import classification_report"
   ]
  },
  {
   "cell_type": "code",
   "execution_count": 41,
   "id": "61240256",
   "metadata": {},
   "outputs": [
    {
     "name": "stdout",
     "output_type": "stream",
     "text": [
      "              precision    recall  f1-score   support\n",
      "\n",
      "           0       1.00      0.97      0.98       234\n",
      "           1       0.97      1.00      0.99       234\n",
      "\n",
      "    accuracy                           0.99       468\n",
      "   macro avg       0.99      0.99      0.99       468\n",
      "weighted avg       0.99      0.99      0.99       468\n",
      "\n"
     ]
    }
   ],
   "source": [
    "print(classification_report(clf_eyes.predict(normalize_data(X_eyes_test)),y_eyes_test))"
   ]
  },
  {
   "cell_type": "code",
   "execution_count": 42,
   "id": "0e531620",
   "metadata": {},
   "outputs": [],
   "source": [
    "clf_emotion=SVC(gamma=0.001)"
   ]
  },
  {
   "cell_type": "code",
   "execution_count": 43,
   "id": "5b2bc890",
   "metadata": {},
   "outputs": [
    {
     "data": {
      "text/html": [
       "<style>#sk-container-id-3 {color: black;background-color: white;}#sk-container-id-3 pre{padding: 0;}#sk-container-id-3 div.sk-toggleable {background-color: white;}#sk-container-id-3 label.sk-toggleable__label {cursor: pointer;display: block;width: 100%;margin-bottom: 0;padding: 0.3em;box-sizing: border-box;text-align: center;}#sk-container-id-3 label.sk-toggleable__label-arrow:before {content: \"▸\";float: left;margin-right: 0.25em;color: #696969;}#sk-container-id-3 label.sk-toggleable__label-arrow:hover:before {color: black;}#sk-container-id-3 div.sk-estimator:hover label.sk-toggleable__label-arrow:before {color: black;}#sk-container-id-3 div.sk-toggleable__content {max-height: 0;max-width: 0;overflow: hidden;text-align: left;background-color: #f0f8ff;}#sk-container-id-3 div.sk-toggleable__content pre {margin: 0.2em;color: black;border-radius: 0.25em;background-color: #f0f8ff;}#sk-container-id-3 input.sk-toggleable__control:checked~div.sk-toggleable__content {max-height: 200px;max-width: 100%;overflow: auto;}#sk-container-id-3 input.sk-toggleable__control:checked~label.sk-toggleable__label-arrow:before {content: \"▾\";}#sk-container-id-3 div.sk-estimator input.sk-toggleable__control:checked~label.sk-toggleable__label {background-color: #d4ebff;}#sk-container-id-3 div.sk-label input.sk-toggleable__control:checked~label.sk-toggleable__label {background-color: #d4ebff;}#sk-container-id-3 input.sk-hidden--visually {border: 0;clip: rect(1px 1px 1px 1px);clip: rect(1px, 1px, 1px, 1px);height: 1px;margin: -1px;overflow: hidden;padding: 0;position: absolute;width: 1px;}#sk-container-id-3 div.sk-estimator {font-family: monospace;background-color: #f0f8ff;border: 1px dotted black;border-radius: 0.25em;box-sizing: border-box;margin-bottom: 0.5em;}#sk-container-id-3 div.sk-estimator:hover {background-color: #d4ebff;}#sk-container-id-3 div.sk-parallel-item::after {content: \"\";width: 100%;border-bottom: 1px solid gray;flex-grow: 1;}#sk-container-id-3 div.sk-label:hover label.sk-toggleable__label {background-color: #d4ebff;}#sk-container-id-3 div.sk-serial::before {content: \"\";position: absolute;border-left: 1px solid gray;box-sizing: border-box;top: 0;bottom: 0;left: 50%;z-index: 0;}#sk-container-id-3 div.sk-serial {display: flex;flex-direction: column;align-items: center;background-color: white;padding-right: 0.2em;padding-left: 0.2em;position: relative;}#sk-container-id-3 div.sk-item {position: relative;z-index: 1;}#sk-container-id-3 div.sk-parallel {display: flex;align-items: stretch;justify-content: center;background-color: white;position: relative;}#sk-container-id-3 div.sk-item::before, #sk-container-id-3 div.sk-parallel-item::before {content: \"\";position: absolute;border-left: 1px solid gray;box-sizing: border-box;top: 0;bottom: 0;left: 50%;z-index: -1;}#sk-container-id-3 div.sk-parallel-item {display: flex;flex-direction: column;z-index: 1;position: relative;background-color: white;}#sk-container-id-3 div.sk-parallel-item:first-child::after {align-self: flex-end;width: 50%;}#sk-container-id-3 div.sk-parallel-item:last-child::after {align-self: flex-start;width: 50%;}#sk-container-id-3 div.sk-parallel-item:only-child::after {width: 0;}#sk-container-id-3 div.sk-dashed-wrapped {border: 1px dashed gray;margin: 0 0.4em 0.5em 0.4em;box-sizing: border-box;padding-bottom: 0.4em;background-color: white;}#sk-container-id-3 div.sk-label label {font-family: monospace;font-weight: bold;display: inline-block;line-height: 1.2em;}#sk-container-id-3 div.sk-label-container {text-align: center;}#sk-container-id-3 div.sk-container {/* jupyter's `normalize.less` sets `[hidden] { display: none; }` but bootstrap.min.css set `[hidden] { display: none !important; }` so we also need the `!important` here to be able to override the default hidden behavior on the sphinx rendered scikit-learn.org. See: https://github.com/scikit-learn/scikit-learn/issues/21755 */display: inline-block !important;position: relative;}#sk-container-id-3 div.sk-text-repr-fallback {display: none;}</style><div id=\"sk-container-id-3\" class=\"sk-top-container\"><div class=\"sk-text-repr-fallback\"><pre>SVC(gamma=0.001)</pre><b>In a Jupyter environment, please rerun this cell to show the HTML representation or trust the notebook. <br />On GitHub, the HTML representation is unable to render, please try loading this page with nbviewer.org.</b></div><div class=\"sk-container\" hidden><div class=\"sk-item\"><div class=\"sk-estimator sk-toggleable\"><input class=\"sk-toggleable__control sk-hidden--visually\" id=\"sk-estimator-id-3\" type=\"checkbox\" checked><label for=\"sk-estimator-id-3\" class=\"sk-toggleable__label sk-toggleable__label-arrow\">SVC</label><div class=\"sk-toggleable__content\"><pre>SVC(gamma=0.001)</pre></div></div></div></div></div>"
      ],
      "text/plain": [
       "SVC(gamma=0.001)"
      ]
     },
     "execution_count": 43,
     "metadata": {},
     "output_type": "execute_result"
    }
   ],
   "source": [
    "clf_emotion.fit(normalize_data(X_emotion_train),y_emotion_train)"
   ]
  },
  {
   "cell_type": "code",
   "execution_count": 44,
   "id": "d9dfcb8f",
   "metadata": {},
   "outputs": [
    {
     "data": {
      "text/plain": [
       "0.25427350427350426"
      ]
     },
     "execution_count": 44,
     "metadata": {},
     "output_type": "execute_result"
    }
   ],
   "source": [
    "clf_emotion.score(normalize_data(X_emotion_test),y_emotion_test)"
   ]
  },
  {
   "cell_type": "code",
   "execution_count": 45,
   "id": "b1930132",
   "metadata": {},
   "outputs": [],
   "source": [
    "clf1=MLPClassifier(solver='lbfgs', alpha=1e-5, hidden_layer_sizes=(1000, 100), random_state=1, verbose=True)"
   ]
  },
  {
   "cell_type": "code",
   "execution_count": 46,
   "id": "bac6464a",
   "metadata": {},
   "outputs": [
    {
     "name": "stderr",
     "output_type": "stream",
     "text": [
      " This problem is unconstrained.\n"
     ]
    },
    {
     "name": "stdout",
     "output_type": "stream",
     "text": [
      "RUNNING THE L-BFGS-B CODE\n",
      "\n",
      "           * * *\n",
      "\n",
      "Machine precision = 2.220D-16\n",
      " N =      4197504     M =           10\n",
      "\n",
      "At X0         0 variables are exactly at the bounds\n",
      "\n",
      "At iterate    0    f=  1.39625D+00    |proj g|=  1.25219D-02\n",
      "\n",
      "At iterate    1    f=  1.38662D+00    |proj g|=  8.18245D-02\n",
      "\n",
      "At iterate    2    f=  1.36842D+00    |proj g|=  1.84863D-02\n",
      "\n",
      "At iterate    3    f=  1.36451D+00    |proj g|=  1.10138D-02\n",
      "\n",
      "At iterate    4    f=  1.35726D+00    |proj g|=  2.24514D-02\n",
      "\n",
      "At iterate    5    f=  1.35095D+00    |proj g|=  2.54851D-02\n",
      "\n",
      "At iterate    6    f=  1.33038D+00    |proj g|=  9.35854D-03\n",
      "\n",
      "At iterate    7    f=  1.32461D+00    |proj g|=  4.83364D-02\n",
      "\n",
      "At iterate    8    f=  1.31482D+00    |proj g|=  1.21550D-02\n",
      "\n",
      "At iterate    9    f=  1.30998D+00    |proj g|=  1.38107D-02\n",
      "\n",
      "At iterate   10    f=  1.30487D+00    |proj g|=  1.95822D-02\n",
      "\n",
      "At iterate   11    f=  1.29396D+00    |proj g|=  1.83507D-02\n",
      "\n",
      "At iterate   12    f=  1.28081D+00    |proj g|=  6.38544D-02\n",
      "\n",
      "At iterate   13    f=  1.27046D+00    |proj g|=  1.99887D-02\n",
      "\n",
      "At iterate   14    f=  1.26075D+00    |proj g|=  1.97931D-02\n",
      "\n",
      "At iterate   15    f=  1.24702D+00    |proj g|=  2.98800D-02\n",
      "\n",
      "At iterate   16    f=  1.24065D+00    |proj g|=  3.77629D-02\n",
      "\n",
      "At iterate   17    f=  1.23280D+00    |proj g|=  1.85726D-02\n",
      "\n",
      "At iterate   18    f=  1.22516D+00    |proj g|=  5.72917D-02\n",
      "\n",
      "At iterate   19    f=  1.21919D+00    |proj g|=  3.19479D-02\n",
      "\n",
      "At iterate   20    f=  1.20944D+00    |proj g|=  2.19142D-02\n",
      "\n",
      "At iterate   21    f=  1.20300D+00    |proj g|=  1.93254D-01\n",
      "\n",
      "At iterate   22    f=  1.18953D+00    |proj g|=  6.58628D-02\n",
      "\n",
      "At iterate   23    f=  1.18036D+00    |proj g|=  5.81939D-02\n",
      "\n",
      "At iterate   24    f=  1.17254D+00    |proj g|=  6.03261D-02\n",
      "\n",
      "At iterate   25    f=  1.15761D+00    |proj g|=  5.00491D-02\n",
      "\n",
      "At iterate   26    f=  1.14157D+00    |proj g|=  5.56056D-02\n",
      "\n",
      "At iterate   27    f=  1.13802D+00    |proj g|=  1.26350D-01\n",
      "\n",
      "At iterate   28    f=  1.12868D+00    |proj g|=  1.01225D-01\n",
      "\n",
      "At iterate   29    f=  1.12442D+00    |proj g|=  2.37832D-01\n",
      "\n",
      "At iterate   30    f=  1.11822D+00    |proj g|=  4.81832D-02\n",
      "\n",
      "At iterate   31    f=  1.11488D+00    |proj g|=  4.28267D-02\n",
      "\n",
      "At iterate   32    f=  1.10855D+00    |proj g|=  6.00070D-02\n",
      "\n",
      "At iterate   33    f=  1.10046D+00    |proj g|=  1.87338D-01\n",
      "\n",
      "At iterate   34    f=  1.09018D+00    |proj g|=  3.27357D-02\n",
      "\n",
      "At iterate   35    f=  1.08356D+00    |proj g|=  7.45814D-02\n",
      "\n",
      "At iterate   36    f=  1.07506D+00    |proj g|=  7.66072D-02\n",
      "\n",
      "At iterate   37    f=  1.06286D+00    |proj g|=  1.16785D-01\n",
      "\n",
      "At iterate   38    f=  1.05315D+00    |proj g|=  2.69046D-01\n",
      "\n",
      "At iterate   39    f=  1.04179D+00    |proj g|=  1.40617D-01\n",
      "\n",
      "At iterate   40    f=  1.03732D+00    |proj g|=  7.21092D-02\n",
      "\n",
      "At iterate   41    f=  1.03539D+00    |proj g|=  3.66038D-02\n",
      "\n",
      "At iterate   42    f=  1.03085D+00    |proj g|=  1.51062D-01\n",
      "\n",
      "At iterate   43    f=  1.01797D+00    |proj g|=  1.85073D-01\n",
      "\n",
      "At iterate   44    f=  1.00571D+00    |proj g|=  1.30986D-01\n",
      "\n",
      "At iterate   45    f=  9.99716D-01    |proj g|=  6.51825D-02\n",
      "\n",
      "At iterate   46    f=  9.96392D-01    |proj g|=  5.48970D-02\n",
      "\n",
      "At iterate   47    f=  9.87031D-01    |proj g|=  1.27121D-01\n",
      "\n",
      "At iterate   48    f=  9.80475D-01    |proj g|=  5.60591D-02\n",
      "\n",
      "At iterate   49    f=  9.66608D-01    |proj g|=  1.29790D-01\n",
      "\n",
      "At iterate   50    f=  9.63208D-01    |proj g|=  2.11883D-01\n",
      "\n",
      "At iterate   51    f=  9.60070D-01    |proj g|=  1.43079D-01\n",
      "\n",
      "At iterate   52    f=  9.55096D-01    |proj g|=  1.09643D-01\n",
      "\n",
      "At iterate   53    f=  9.52076D-01    |proj g|=  8.98097D-02\n",
      "\n",
      "At iterate   54    f=  9.47709D-01    |proj g|=  2.18978D-01\n",
      "\n",
      "At iterate   55    f=  9.43262D-01    |proj g|=  5.09273D-02\n",
      "\n",
      "At iterate   56    f=  9.39264D-01    |proj g|=  4.69659D-02\n",
      "\n",
      "At iterate   57    f=  9.29050D-01    |proj g|=  3.97996D-01\n",
      "\n",
      "At iterate   58    f=  9.21844D-01    |proj g|=  1.28861D-01\n",
      "\n",
      "At iterate   59    f=  9.18311D-01    |proj g|=  5.65644D-02\n",
      "\n",
      "At iterate   60    f=  9.12190D-01    |proj g|=  7.86216D-02\n",
      "\n",
      "At iterate   61    f=  9.09566D-01    |proj g|=  3.73014D-01\n",
      "\n",
      "At iterate   62    f=  9.02636D-01    |proj g|=  2.75688D-01\n",
      "\n",
      "At iterate   63    f=  8.92404D-01    |proj g|=  6.18754D-02\n",
      "\n",
      "At iterate   64    f=  8.89112D-01    |proj g|=  6.91016D-02\n",
      "\n",
      "At iterate   65    f=  8.86705D-01    |proj g|=  2.70655D-01\n",
      "\n",
      "At iterate   66    f=  8.81823D-01    |proj g|=  1.26614D-01\n",
      "\n",
      "At iterate   67    f=  8.77464D-01    |proj g|=  7.25517D-02\n",
      "\n",
      "At iterate   68    f=  8.74469D-01    |proj g|=  6.15264D-02\n",
      "\n",
      "At iterate   69    f=  8.69038D-01    |proj g|=  3.86335D-01\n",
      "\n",
      "At iterate   70    f=  8.62188D-01    |proj g|=  9.92356D-02\n",
      "\n",
      "At iterate   71    f=  8.56097D-01    |proj g|=  9.00689D-02\n",
      "\n",
      "At iterate   72    f=  8.50547D-01    |proj g|=  4.60003D-01\n",
      "\n",
      "At iterate   73    f=  8.43277D-01    |proj g|=  9.02889D-02\n",
      "\n",
      "At iterate   74    f=  8.41861D-01    |proj g|=  3.76329D-02\n",
      "\n",
      "At iterate   75    f=  8.39679D-01    |proj g|=  6.11452D-02\n",
      "\n",
      "At iterate   76    f=  8.34236D-01    |proj g|=  4.08441D-01\n",
      "\n",
      "At iterate   77    f=  8.28339D-01    |proj g|=  1.59942D-01\n",
      "\n",
      "At iterate   78    f=  8.23627D-01    |proj g|=  7.15376D-02\n",
      "\n",
      "At iterate   79    f=  8.18268D-01    |proj g|=  5.65005D-02\n",
      "\n",
      "At iterate   80    f=  8.13046D-01    |proj g|=  3.11411D-01\n",
      "\n",
      "At iterate   81    f=  8.08980D-01    |proj g|=  1.50839D-01\n",
      "\n",
      "At iterate   82    f=  8.06084D-01    |proj g|=  1.26798D-01\n",
      "\n",
      "At iterate   83    f=  8.01050D-01    |proj g|=  8.31515D-02\n",
      "\n",
      "At iterate   84    f=  7.98297D-01    |proj g|=  3.18449D-01\n",
      "\n",
      "At iterate   85    f=  7.94277D-01    |proj g|=  2.02628D-01\n",
      "\n",
      "At iterate   86    f=  7.92379D-01    |proj g|=  1.33183D-01\n",
      "\n",
      "At iterate   87    f=  7.89171D-01    |proj g|=  7.15592D-02\n",
      "\n",
      "At iterate   88    f=  7.87442D-01    |proj g|=  4.22969D-01\n",
      "\n",
      "At iterate   89    f=  7.83060D-01    |proj g|=  1.24470D-01\n",
      "\n",
      "At iterate   90    f=  7.78178D-01    |proj g|=  1.70381D-01\n",
      "\n",
      "At iterate   91    f=  7.73832D-01    |proj g|=  1.74622D-01\n",
      "\n",
      "At iterate   92    f=  7.71374D-01    |proj g|=  6.55976D-01\n",
      "\n",
      "At iterate   93    f=  7.66125D-01    |proj g|=  1.09121D-01\n",
      "\n",
      "At iterate   94    f=  7.63787D-01    |proj g|=  1.88800D-01\n",
      "\n",
      "At iterate   95    f=  7.60111D-01    |proj g|=  3.66679D-01\n",
      "\n",
      "At iterate   96    f=  7.55169D-01    |proj g|=  4.03359D-01\n",
      "\n",
      "At iterate   97    f=  7.52041D-01    |proj g|=  3.72299D-01\n",
      "\n",
      "At iterate   98    f=  7.48823D-01    |proj g|=  9.45767D-02\n",
      "\n",
      "At iterate   99    f=  7.47863D-01    |proj g|=  8.36206D-02\n",
      "\n",
      "At iterate  100    f=  7.46708D-01    |proj g|=  1.26196D-01\n",
      "\n",
      "At iterate  101    f=  7.43397D-01    |proj g|=  2.46582D-01\n",
      "\n",
      "At iterate  102    f=  7.41453D-01    |proj g|=  4.88703D-01\n",
      "\n",
      "At iterate  103    f=  7.37077D-01    |proj g|=  1.55329D-01\n",
      "\n",
      "At iterate  104    f=  7.34254D-01    |proj g|=  1.24895D-01\n",
      "\n",
      "At iterate  105    f=  7.30835D-01    |proj g|=  2.46828D-01\n",
      "\n",
      "At iterate  106    f=  7.26935D-01    |proj g|=  2.79684D-01\n",
      "\n",
      "At iterate  107    f=  7.25418D-01    |proj g|=  4.70721D-01\n",
      "\n",
      "At iterate  108    f=  7.21213D-01    |proj g|=  2.54362D-01\n",
      "\n",
      "At iterate  109    f=  7.19043D-01    |proj g|=  5.23821D-02\n",
      "\n",
      "At iterate  110    f=  7.17611D-01    |proj g|=  1.94518D-01\n",
      "\n",
      "At iterate  111    f=  7.15858D-01    |proj g|=  1.94570D-01\n",
      "\n",
      "At iterate  112    f=  7.13050D-01    |proj g|=  1.77107D-01\n",
      "\n",
      "At iterate  113    f=  7.10422D-01    |proj g|=  8.08955D-01\n",
      "\n",
      "At iterate  114    f=  7.01370D-01    |proj g|=  1.74042D-01\n",
      "\n",
      "At iterate  115    f=  6.99610D-01    |proj g|=  1.33532D-01\n",
      "\n",
      "At iterate  116    f=  6.98051D-01    |proj g|=  1.76082D-01\n",
      "\n",
      "At iterate  117    f=  6.93793D-01    |proj g|=  2.58464D-01\n",
      "\n",
      "At iterate  118    f=  6.91392D-01    |proj g|=  4.45000D-01\n",
      "\n",
      "At iterate  119    f=  6.85987D-01    |proj g|=  3.14209D-01\n",
      "\n",
      "At iterate  120    f=  6.78479D-01    |proj g|=  1.23473D-01\n",
      "\n",
      "At iterate  121    f=  6.76516D-01    |proj g|=  2.93673D-01\n",
      "\n",
      "At iterate  122    f=  6.74536D-01    |proj g|=  1.17463D-01\n",
      "\n",
      "At iterate  123    f=  6.72637D-01    |proj g|=  8.02678D-02\n",
      "\n",
      "At iterate  124    f=  6.67766D-01    |proj g|=  2.19268D-01\n",
      "\n",
      "At iterate  125    f=  6.64701D-01    |proj g|=  2.38840D-01\n",
      "\n",
      "At iterate  126    f=  6.63041D-01    |proj g|=  2.52074D-01\n",
      "\n",
      "At iterate  127    f=  6.61700D-01    |proj g|=  1.38930D-01\n",
      "\n",
      "At iterate  128    f=  6.59902D-01    |proj g|=  1.23163D-01\n",
      "\n",
      "At iterate  129    f=  6.58081D-01    |proj g|=  1.94408D-01\n"
     ]
    },
    {
     "name": "stdout",
     "output_type": "stream",
     "text": [
      "\n",
      "At iterate  130    f=  6.54562D-01    |proj g|=  2.47222D-01\n",
      "\n",
      "At iterate  131    f=  6.49842D-01    |proj g|=  3.73043D-01\n",
      "\n",
      "At iterate  132    f=  6.48644D-01    |proj g|=  5.14114D-01\n",
      "\n",
      "At iterate  133    f=  6.45640D-01    |proj g|=  9.71285D-02\n",
      "\n",
      "At iterate  134    f=  6.44938D-01    |proj g|=  5.43785D-02\n",
      "\n",
      "At iterate  135    f=  6.44304D-01    |proj g|=  1.13923D-01\n",
      "\n",
      "At iterate  136    f=  6.43237D-01    |proj g|=  1.87524D-01\n",
      "\n",
      "At iterate  137    f=  6.39471D-01    |proj g|=  3.26735D-01\n",
      "\n",
      "At iterate  138    f=  6.32875D-01    |proj g|=  4.78528D-01\n",
      "\n",
      "At iterate  139    f=  6.28503D-01    |proj g|=  6.15047D-01\n",
      "\n",
      "At iterate  140    f=  6.21572D-01    |proj g|=  2.64468D-01\n",
      "\n",
      "At iterate  141    f=  6.16668D-01    |proj g|=  1.14395D-01\n",
      "\n",
      "At iterate  142    f=  6.15679D-01    |proj g|=  1.06236D-01\n",
      "\n",
      "At iterate  143    f=  6.13460D-01    |proj g|=  1.56437D-01\n",
      "\n",
      "At iterate  144    f=  6.11077D-01    |proj g|=  3.45261D-01\n",
      "\n",
      "At iterate  145    f=  6.09349D-01    |proj g|=  2.00044D-01\n",
      "\n",
      "At iterate  146    f=  6.08430D-01    |proj g|=  1.31779D-01\n",
      "\n",
      "At iterate  147    f=  6.06709D-01    |proj g|=  4.61551D-02\n",
      "\n",
      "At iterate  148    f=  6.04861D-01    |proj g|=  3.82557D-01\n",
      "\n",
      "At iterate  149    f=  6.02248D-01    |proj g|=  2.00666D-01\n",
      "\n",
      "At iterate  150    f=  5.99036D-01    |proj g|=  1.10275D-01\n",
      "\n",
      "At iterate  151    f=  5.97833D-01    |proj g|=  8.55580D-02\n",
      "\n",
      "At iterate  152    f=  5.96895D-01    |proj g|=  1.07244D-01\n",
      "\n",
      "At iterate  153    f=  5.95324D-01    |proj g|=  1.43235D-01\n",
      "\n",
      "At iterate  154    f=  5.92570D-01    |proj g|=  2.72016D-01\n",
      "\n",
      "At iterate  155    f=  5.87641D-01    |proj g|=  2.40762D-01\n",
      "\n",
      "At iterate  156    f=  5.80454D-01    |proj g|=  2.10072D-01\n",
      "\n",
      "At iterate  157    f=  5.79027D-01    |proj g|=  3.72376D-01\n",
      "\n",
      "At iterate  158    f=  5.70760D-01    |proj g|=  2.54230D-01\n",
      "\n",
      "At iterate  159    f=  5.69178D-01    |proj g|=  3.55685D-01\n",
      "\n",
      "At iterate  160    f=  5.64830D-01    |proj g|=  1.49669D-01\n",
      "\n",
      "At iterate  161    f=  5.60096D-01    |proj g|=  1.01756D-01\n",
      "\n",
      "At iterate  162    f=  5.58063D-01    |proj g|=  2.09289D-01\n",
      "\n",
      "At iterate  163    f=  5.55932D-01    |proj g|=  2.09925D-01\n",
      "\n",
      "At iterate  164    f=  5.54093D-01    |proj g|=  2.28673D-01\n",
      "\n",
      "At iterate  165    f=  5.53376D-01    |proj g|=  7.50019D-02\n",
      "\n",
      "At iterate  166    f=  5.52281D-01    |proj g|=  7.10511D-02\n",
      "\n",
      "At iterate  167    f=  5.50249D-01    |proj g|=  1.68836D-01\n",
      "\n",
      "At iterate  168    f=  5.46837D-01    |proj g|=  3.17756D-01\n",
      "\n",
      "At iterate  169    f=  5.44204D-01    |proj g|=  3.49954D-01\n",
      "\n",
      "At iterate  170    f=  5.40984D-01    |proj g|=  1.18426D-01\n",
      "\n",
      "At iterate  171    f=  5.38883D-01    |proj g|=  8.13046D-02\n",
      "\n",
      "At iterate  172    f=  5.37423D-01    |proj g|=  1.87125D-01\n",
      "\n",
      "At iterate  173    f=  5.35278D-01    |proj g|=  4.70229D-02\n",
      "\n",
      "At iterate  174    f=  5.32047D-01    |proj g|=  1.15330D-01\n",
      "\n",
      "At iterate  175    f=  5.28670D-01    |proj g|=  3.45060D-01\n",
      "\n",
      "At iterate  176    f=  5.27535D-01    |proj g|=  3.04807D-01\n",
      "\n",
      "At iterate  177    f=  5.26678D-01    |proj g|=  1.15071D-01\n",
      "\n",
      "At iterate  178    f=  5.25524D-01    |proj g|=  1.13458D-01\n",
      "\n",
      "At iterate  179    f=  5.23548D-01    |proj g|=  1.96132D-01\n",
      "\n",
      "At iterate  180    f=  5.21266D-01    |proj g|=  3.02953D-01\n",
      "\n",
      "At iterate  181    f=  5.20098D-01    |proj g|=  3.88511D-01\n",
      "\n",
      "At iterate  182    f=  5.18440D-01    |proj g|=  8.99552D-02\n",
      "\n",
      "At iterate  183    f=  5.17532D-01    |proj g|=  1.07196D-01\n",
      "\n",
      "At iterate  184    f=  5.16505D-01    |proj g|=  1.66901D-01\n",
      "\n",
      "At iterate  185    f=  5.14847D-01    |proj g|=  2.86231D-01\n",
      "\n",
      "At iterate  186    f=  5.11181D-01    |proj g|=  1.94582D-01\n",
      "\n",
      "At iterate  187    f=  5.05664D-01    |proj g|=  9.04343D-02\n",
      "\n",
      "At iterate  188    f=  4.98332D-01    |proj g|=  1.41614D-01\n",
      "\n",
      "At iterate  189    f=  4.95851D-01    |proj g|=  4.97576D-01\n",
      "\n",
      "At iterate  190    f=  4.89428D-01    |proj g|=  1.07496D-01\n",
      "\n",
      "At iterate  191    f=  4.87269D-01    |proj g|=  1.40355D-01\n",
      "\n",
      "At iterate  192    f=  4.85015D-01    |proj g|=  1.32419D-01\n",
      "\n",
      "At iterate  193    f=  4.83293D-01    |proj g|=  1.17841D-01\n",
      "\n",
      "At iterate  194    f=  4.82183D-01    |proj g|=  3.06013D-01\n",
      "\n",
      "At iterate  195    f=  4.80634D-01    |proj g|=  1.17225D-01\n",
      "\n",
      "At iterate  196    f=  4.79310D-01    |proj g|=  9.50153D-02\n",
      "\n",
      "At iterate  197    f=  4.77137D-01    |proj g|=  7.79210D-02\n",
      "\n",
      "At iterate  198    f=  4.75004D-01    |proj g|=  1.56918D-01\n",
      "\n",
      "At iterate  199    f=  4.72089D-01    |proj g|=  1.31744D-01\n",
      "\n",
      "At iterate  200    f=  4.69862D-01    |proj g|=  6.80747D-02\n",
      "\n",
      "           * * *\n",
      "\n",
      "Tit   = total number of iterations\n",
      "Tnf   = total number of function evaluations\n",
      "Tnint = total number of segments explored during Cauchy searches\n",
      "Skip  = number of BFGS updates skipped\n",
      "Nact  = number of active bounds at final generalized Cauchy point\n",
      "Projg = norm of the final projected gradient\n",
      "F     = final function value\n",
      "\n",
      "           * * *\n",
      "\n",
      "   N    Tit     Tnf  Tnint  Skip  Nact     Projg        F\n",
      "*****    200    217      1     0     0   6.807D-02   4.699D-01\n",
      "  F =  0.46986214387484776     \n",
      "\n",
      "STOP: TOTAL NO. of ITERATIONS REACHED LIMIT                 \n"
     ]
    },
    {
     "name": "stderr",
     "output_type": "stream",
     "text": [
      "/Users/mac/opt/anaconda3/envs/Opencv/lib/python3.10/site-packages/sklearn/neural_network/_multilayer_perceptron.py:559: ConvergenceWarning: lbfgs failed to converge (status=1):\n",
      "STOP: TOTAL NO. of ITERATIONS REACHED LIMIT.\n",
      "\n",
      "Increase the number of iterations (max_iter) or scale the data as shown in:\n",
      "    https://scikit-learn.org/stable/modules/preprocessing.html\n",
      "  self.n_iter_ = _check_optimize_result(\"lbfgs\", opt_res, self.max_iter)\n"
     ]
    },
    {
     "data": {
      "text/html": [
       "<style>#sk-container-id-4 {color: black;background-color: white;}#sk-container-id-4 pre{padding: 0;}#sk-container-id-4 div.sk-toggleable {background-color: white;}#sk-container-id-4 label.sk-toggleable__label {cursor: pointer;display: block;width: 100%;margin-bottom: 0;padding: 0.3em;box-sizing: border-box;text-align: center;}#sk-container-id-4 label.sk-toggleable__label-arrow:before {content: \"▸\";float: left;margin-right: 0.25em;color: #696969;}#sk-container-id-4 label.sk-toggleable__label-arrow:hover:before {color: black;}#sk-container-id-4 div.sk-estimator:hover label.sk-toggleable__label-arrow:before {color: black;}#sk-container-id-4 div.sk-toggleable__content {max-height: 0;max-width: 0;overflow: hidden;text-align: left;background-color: #f0f8ff;}#sk-container-id-4 div.sk-toggleable__content pre {margin: 0.2em;color: black;border-radius: 0.25em;background-color: #f0f8ff;}#sk-container-id-4 input.sk-toggleable__control:checked~div.sk-toggleable__content {max-height: 200px;max-width: 100%;overflow: auto;}#sk-container-id-4 input.sk-toggleable__control:checked~label.sk-toggleable__label-arrow:before {content: \"▾\";}#sk-container-id-4 div.sk-estimator input.sk-toggleable__control:checked~label.sk-toggleable__label {background-color: #d4ebff;}#sk-container-id-4 div.sk-label input.sk-toggleable__control:checked~label.sk-toggleable__label {background-color: #d4ebff;}#sk-container-id-4 input.sk-hidden--visually {border: 0;clip: rect(1px 1px 1px 1px);clip: rect(1px, 1px, 1px, 1px);height: 1px;margin: -1px;overflow: hidden;padding: 0;position: absolute;width: 1px;}#sk-container-id-4 div.sk-estimator {font-family: monospace;background-color: #f0f8ff;border: 1px dotted black;border-radius: 0.25em;box-sizing: border-box;margin-bottom: 0.5em;}#sk-container-id-4 div.sk-estimator:hover {background-color: #d4ebff;}#sk-container-id-4 div.sk-parallel-item::after {content: \"\";width: 100%;border-bottom: 1px solid gray;flex-grow: 1;}#sk-container-id-4 div.sk-label:hover label.sk-toggleable__label {background-color: #d4ebff;}#sk-container-id-4 div.sk-serial::before {content: \"\";position: absolute;border-left: 1px solid gray;box-sizing: border-box;top: 0;bottom: 0;left: 50%;z-index: 0;}#sk-container-id-4 div.sk-serial {display: flex;flex-direction: column;align-items: center;background-color: white;padding-right: 0.2em;padding-left: 0.2em;position: relative;}#sk-container-id-4 div.sk-item {position: relative;z-index: 1;}#sk-container-id-4 div.sk-parallel {display: flex;align-items: stretch;justify-content: center;background-color: white;position: relative;}#sk-container-id-4 div.sk-item::before, #sk-container-id-4 div.sk-parallel-item::before {content: \"\";position: absolute;border-left: 1px solid gray;box-sizing: border-box;top: 0;bottom: 0;left: 50%;z-index: -1;}#sk-container-id-4 div.sk-parallel-item {display: flex;flex-direction: column;z-index: 1;position: relative;background-color: white;}#sk-container-id-4 div.sk-parallel-item:first-child::after {align-self: flex-end;width: 50%;}#sk-container-id-4 div.sk-parallel-item:last-child::after {align-self: flex-start;width: 50%;}#sk-container-id-4 div.sk-parallel-item:only-child::after {width: 0;}#sk-container-id-4 div.sk-dashed-wrapped {border: 1px dashed gray;margin: 0 0.4em 0.5em 0.4em;box-sizing: border-box;padding-bottom: 0.4em;background-color: white;}#sk-container-id-4 div.sk-label label {font-family: monospace;font-weight: bold;display: inline-block;line-height: 1.2em;}#sk-container-id-4 div.sk-label-container {text-align: center;}#sk-container-id-4 div.sk-container {/* jupyter's `normalize.less` sets `[hidden] { display: none; }` but bootstrap.min.css set `[hidden] { display: none !important; }` so we also need the `!important` here to be able to override the default hidden behavior on the sphinx rendered scikit-learn.org. See: https://github.com/scikit-learn/scikit-learn/issues/21755 */display: inline-block !important;position: relative;}#sk-container-id-4 div.sk-text-repr-fallback {display: none;}</style><div id=\"sk-container-id-4\" class=\"sk-top-container\"><div class=\"sk-text-repr-fallback\"><pre>MLPClassifier(alpha=1e-05, hidden_layer_sizes=(1000, 100), random_state=1,\n",
       "              solver=&#x27;lbfgs&#x27;, verbose=True)</pre><b>In a Jupyter environment, please rerun this cell to show the HTML representation or trust the notebook. <br />On GitHub, the HTML representation is unable to render, please try loading this page with nbviewer.org.</b></div><div class=\"sk-container\" hidden><div class=\"sk-item\"><div class=\"sk-estimator sk-toggleable\"><input class=\"sk-toggleable__control sk-hidden--visually\" id=\"sk-estimator-id-4\" type=\"checkbox\" checked><label for=\"sk-estimator-id-4\" class=\"sk-toggleable__label sk-toggleable__label-arrow\">MLPClassifier</label><div class=\"sk-toggleable__content\"><pre>MLPClassifier(alpha=1e-05, hidden_layer_sizes=(1000, 100), random_state=1,\n",
       "              solver=&#x27;lbfgs&#x27;, verbose=True)</pre></div></div></div></div></div>"
      ],
      "text/plain": [
       "MLPClassifier(alpha=1e-05, hidden_layer_sizes=(1000, 100), random_state=1,\n",
       "              solver='lbfgs', verbose=True)"
      ]
     },
     "execution_count": 46,
     "metadata": {},
     "output_type": "execute_result"
    }
   ],
   "source": [
    "clf1.fit(normalize_data(X_emotion_train),y_emotion_train)"
   ]
  },
  {
   "cell_type": "code",
   "execution_count": 47,
   "id": "c105e42d",
   "metadata": {},
   "outputs": [
    {
     "data": {
      "text/plain": [
       "0.5705128205128205"
      ]
     },
     "execution_count": 47,
     "metadata": {},
     "output_type": "execute_result"
    }
   ],
   "source": [
    "clf1.score(normalize_data(X_emotion_test),y_emotion_test)"
   ]
  },
  {
   "cell_type": "markdown",
   "id": "3c32f034",
   "metadata": {},
   "source": [
    "Pickling the Model For deploy"
   ]
  },
  {
   "cell_type": "code",
   "execution_count": 48,
   "id": "d3e48f12",
   "metadata": {},
   "outputs": [],
   "source": [
    "import pickle as pk\n"
   ]
  },
  {
   "cell_type": "code",
   "execution_count": 49,
   "id": "56d9c430",
   "metadata": {},
   "outputs": [],
   "source": [
    "pk.dump(clf1,open('Emotion_model.pkl','wb'))"
   ]
  },
  {
   "cell_type": "code",
   "execution_count": 50,
   "id": "bd57ed9e",
   "metadata": {},
   "outputs": [],
   "source": [
    "pk.dump(clf_eyes,open('Eyes_model.pkl','wb'))"
   ]
  },
  {
   "cell_type": "code",
   "execution_count": 51,
   "id": "c3656cf5",
   "metadata": {},
   "outputs": [],
   "source": [
    "pk.dump(clf_head,open('Postion_model.pkl','wb'))"
   ]
  }
 ],
 "metadata": {
  "kernelspec": {
   "display_name": "Python 3 (ipykernel)",
   "language": "python",
   "name": "python3"
  },
  "language_info": {
   "codemirror_mode": {
    "name": "ipython",
    "version": 3
   },
   "file_extension": ".py",
   "mimetype": "text/x-python",
   "name": "python",
   "nbconvert_exporter": "python",
   "pygments_lexer": "ipython3",
   "version": "3.10.4"
  }
 },
 "nbformat": 4,
 "nbformat_minor": 5
}
